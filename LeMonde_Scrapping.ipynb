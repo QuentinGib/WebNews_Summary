{
  "nbformat": 4,
  "nbformat_minor": 0,
  "metadata": {
    "kernelspec": {
      "display_name": "Python 3",
      "language": "python",
      "name": "python3"
    },
    "language_info": {
      "codemirror_mode": {
        "name": "ipython",
        "version": 3
      },
      "file_extension": ".py",
      "mimetype": "text/x-python",
      "name": "python",
      "nbconvert_exporter": "python",
      "pygments_lexer": "ipython3",
      "version": "3.8.5"
    },
    "colab": {
      "name": "LeMonde_Scrapping.ipynb",
      "provenance": [],
      "collapsed_sections": []
    }
  },
  "cells": [
    {
      "cell_type": "code",
      "metadata": {
        "colab": {
          "base_uri": "https://localhost:8080/"
        },
        "id": "vqSH-RfrSn09",
        "outputId": "99d8453a-7b11-427a-e1d2-0bb038da86b0"
      },
      "source": [
        "!pip3 install spacy\n",
        "!python3 -m spacy download fr_core_news_sm\n",
        "import nltk\n",
        "nltk.download(\"punkt\")\n",
        "from nltk.corpus import stopwords\n",
        "from nltk.cluster.util import cosine_distance\n",
        "import numpy as np\n",
        "import pandas as pd\n",
        "import networkx as nx\n",
        "import spacy\n",
        "import fr_core_news_sm\n",
        "from sklearn.metrics.pairwise import cosine_similarity\n",
        "nltk.download(\"stopwords\")\n",
        "import networkx as nx\n",
        "from nltk.stem.snowball import SnowballStemmer"
      ],
      "execution_count": 45,
      "outputs": [
        {
          "output_type": "stream",
          "text": [
            "Requirement already satisfied: spacy in /usr/local/lib/python3.6/dist-packages (2.2.4)\n",
            "Requirement already satisfied: cymem<2.1.0,>=2.0.2 in /usr/local/lib/python3.6/dist-packages (from spacy) (2.0.4)\n",
            "Requirement already satisfied: murmurhash<1.1.0,>=0.28.0 in /usr/local/lib/python3.6/dist-packages (from spacy) (1.0.4)\n",
            "Requirement already satisfied: requests<3.0.0,>=2.13.0 in /usr/local/lib/python3.6/dist-packages (from spacy) (2.23.0)\n",
            "Requirement already satisfied: tqdm<5.0.0,>=4.38.0 in /usr/local/lib/python3.6/dist-packages (from spacy) (4.41.1)\n",
            "Requirement already satisfied: catalogue<1.1.0,>=0.0.7 in /usr/local/lib/python3.6/dist-packages (from spacy) (1.0.0)\n",
            "Requirement already satisfied: setuptools in /usr/local/lib/python3.6/dist-packages (from spacy) (50.3.2)\n",
            "Requirement already satisfied: wasabi<1.1.0,>=0.4.0 in /usr/local/lib/python3.6/dist-packages (from spacy) (0.8.0)\n",
            "Requirement already satisfied: srsly<1.1.0,>=1.0.2 in /usr/local/lib/python3.6/dist-packages (from spacy) (1.0.4)\n",
            "Requirement already satisfied: blis<0.5.0,>=0.4.0 in /usr/local/lib/python3.6/dist-packages (from spacy) (0.4.1)\n",
            "Requirement already satisfied: numpy>=1.15.0 in /usr/local/lib/python3.6/dist-packages (from spacy) (1.18.5)\n",
            "Requirement already satisfied: preshed<3.1.0,>=3.0.2 in /usr/local/lib/python3.6/dist-packages (from spacy) (3.0.4)\n",
            "Requirement already satisfied: plac<1.2.0,>=0.9.6 in /usr/local/lib/python3.6/dist-packages (from spacy) (1.1.3)\n",
            "Requirement already satisfied: thinc==7.4.0 in /usr/local/lib/python3.6/dist-packages (from spacy) (7.4.0)\n",
            "Requirement already satisfied: urllib3!=1.25.0,!=1.25.1,<1.26,>=1.21.1 in /usr/local/lib/python3.6/dist-packages (from requests<3.0.0,>=2.13.0->spacy) (1.24.3)\n",
            "Requirement already satisfied: certifi>=2017.4.17 in /usr/local/lib/python3.6/dist-packages (from requests<3.0.0,>=2.13.0->spacy) (2020.11.8)\n",
            "Requirement already satisfied: idna<3,>=2.5 in /usr/local/lib/python3.6/dist-packages (from requests<3.0.0,>=2.13.0->spacy) (2.10)\n",
            "Requirement already satisfied: chardet<4,>=3.0.2 in /usr/local/lib/python3.6/dist-packages (from requests<3.0.0,>=2.13.0->spacy) (3.0.4)\n",
            "Requirement already satisfied: importlib-metadata>=0.20; python_version < \"3.8\" in /usr/local/lib/python3.6/dist-packages (from catalogue<1.1.0,>=0.0.7->spacy) (2.0.0)\n",
            "Requirement already satisfied: zipp>=0.5 in /usr/local/lib/python3.6/dist-packages (from importlib-metadata>=0.20; python_version < \"3.8\"->catalogue<1.1.0,>=0.0.7->spacy) (3.4.0)\n",
            "Requirement already satisfied: fr_core_news_sm==2.2.5 from https://github.com/explosion/spacy-models/releases/download/fr_core_news_sm-2.2.5/fr_core_news_sm-2.2.5.tar.gz#egg=fr_core_news_sm==2.2.5 in /usr/local/lib/python3.6/dist-packages (2.2.5)\n",
            "Requirement already satisfied: spacy>=2.2.2 in /usr/local/lib/python3.6/dist-packages (from fr_core_news_sm==2.2.5) (2.2.4)\n",
            "Requirement already satisfied: requests<3.0.0,>=2.13.0 in /usr/local/lib/python3.6/dist-packages (from spacy>=2.2.2->fr_core_news_sm==2.2.5) (2.23.0)\n",
            "Requirement already satisfied: catalogue<1.1.0,>=0.0.7 in /usr/local/lib/python3.6/dist-packages (from spacy>=2.2.2->fr_core_news_sm==2.2.5) (1.0.0)\n",
            "Requirement already satisfied: murmurhash<1.1.0,>=0.28.0 in /usr/local/lib/python3.6/dist-packages (from spacy>=2.2.2->fr_core_news_sm==2.2.5) (1.0.4)\n",
            "Requirement already satisfied: thinc==7.4.0 in /usr/local/lib/python3.6/dist-packages (from spacy>=2.2.2->fr_core_news_sm==2.2.5) (7.4.0)\n",
            "Requirement already satisfied: tqdm<5.0.0,>=4.38.0 in /usr/local/lib/python3.6/dist-packages (from spacy>=2.2.2->fr_core_news_sm==2.2.5) (4.41.1)\n",
            "Requirement already satisfied: setuptools in /usr/local/lib/python3.6/dist-packages (from spacy>=2.2.2->fr_core_news_sm==2.2.5) (50.3.2)\n",
            "Requirement already satisfied: preshed<3.1.0,>=3.0.2 in /usr/local/lib/python3.6/dist-packages (from spacy>=2.2.2->fr_core_news_sm==2.2.5) (3.0.4)\n",
            "Requirement already satisfied: blis<0.5.0,>=0.4.0 in /usr/local/lib/python3.6/dist-packages (from spacy>=2.2.2->fr_core_news_sm==2.2.5) (0.4.1)\n",
            "Requirement already satisfied: cymem<2.1.0,>=2.0.2 in /usr/local/lib/python3.6/dist-packages (from spacy>=2.2.2->fr_core_news_sm==2.2.5) (2.0.4)\n",
            "Requirement already satisfied: srsly<1.1.0,>=1.0.2 in /usr/local/lib/python3.6/dist-packages (from spacy>=2.2.2->fr_core_news_sm==2.2.5) (1.0.4)\n",
            "Requirement already satisfied: plac<1.2.0,>=0.9.6 in /usr/local/lib/python3.6/dist-packages (from spacy>=2.2.2->fr_core_news_sm==2.2.5) (1.1.3)\n",
            "Requirement already satisfied: wasabi<1.1.0,>=0.4.0 in /usr/local/lib/python3.6/dist-packages (from spacy>=2.2.2->fr_core_news_sm==2.2.5) (0.8.0)\n",
            "Requirement already satisfied: numpy>=1.15.0 in /usr/local/lib/python3.6/dist-packages (from spacy>=2.2.2->fr_core_news_sm==2.2.5) (1.18.5)\n",
            "Requirement already satisfied: idna<3,>=2.5 in /usr/local/lib/python3.6/dist-packages (from requests<3.0.0,>=2.13.0->spacy>=2.2.2->fr_core_news_sm==2.2.5) (2.10)\n",
            "Requirement already satisfied: chardet<4,>=3.0.2 in /usr/local/lib/python3.6/dist-packages (from requests<3.0.0,>=2.13.0->spacy>=2.2.2->fr_core_news_sm==2.2.5) (3.0.4)\n",
            "Requirement already satisfied: urllib3!=1.25.0,!=1.25.1,<1.26,>=1.21.1 in /usr/local/lib/python3.6/dist-packages (from requests<3.0.0,>=2.13.0->spacy>=2.2.2->fr_core_news_sm==2.2.5) (1.24.3)\n",
            "Requirement already satisfied: certifi>=2017.4.17 in /usr/local/lib/python3.6/dist-packages (from requests<3.0.0,>=2.13.0->spacy>=2.2.2->fr_core_news_sm==2.2.5) (2020.11.8)\n",
            "Requirement already satisfied: importlib-metadata>=0.20; python_version < \"3.8\" in /usr/local/lib/python3.6/dist-packages (from catalogue<1.1.0,>=0.0.7->spacy>=2.2.2->fr_core_news_sm==2.2.5) (2.0.0)\n",
            "Requirement already satisfied: zipp>=0.5 in /usr/local/lib/python3.6/dist-packages (from importlib-metadata>=0.20; python_version < \"3.8\"->catalogue<1.1.0,>=0.0.7->spacy>=2.2.2->fr_core_news_sm==2.2.5) (3.4.0)\n",
            "\u001b[38;5;2m✔ Download and installation successful\u001b[0m\n",
            "You can now load the model via spacy.load('fr_core_news_sm')\n",
            "[nltk_data] Downloading package punkt to /root/nltk_data...\n",
            "[nltk_data]   Package punkt is already up-to-date!\n",
            "[nltk_data] Downloading package stopwords to /root/nltk_data...\n",
            "[nltk_data]   Package stopwords is already up-to-date!\n"
          ],
          "name": "stdout"
        }
      ]
    },
    {
      "cell_type": "code",
      "metadata": {
        "colab": {
          "base_uri": "https://localhost:8080/"
        },
        "id": "MbOdK7KOSn07",
        "outputId": "9539b25f-4e91-4811-8dec-e92b07624c44"
      },
      "source": [
        "import os\n",
        "import requests\n",
        "from bs4 import BeautifulSoup\n",
        "\n",
        "requete = requests.get(\"https://www.lemonde.fr/\")\n",
        "page = requete.content\n",
        "soupAccueil = BeautifulSoup(page)\n",
        "\n",
        "# cas d'article live\n",
        "live = False\n",
        "if(soupAccueil.find(\"div\", {\"class\": \"article article--main\"}).find(\"span\", {\"class\": \"icon__label-live icon__label-live--xl\"})):\n",
        "    live = True\n",
        "print(live)"
      ],
      "execution_count": 50,
      "outputs": [
        {
          "output_type": "stream",
          "text": [
            "False\n"
          ],
          "name": "stdout"
        }
      ]
    },
    {
      "cell_type": "code",
      "metadata": {
        "colab": {
          "base_uri": "https://localhost:8080/"
        },
        "id": "CmRlI0zkSn08",
        "outputId": "72ee4045-cbb7-4585-c6d5-ba862cdf9998"
      },
      "source": [
        "if(not live):\n",
        "    mainArticle = {\n",
        "        \"title\": soupAccueil.find(\"div\", {\"class\": \"article article--main\"}).find(\"span\", {\"class\": \"article__title-label\"}).get_text().replace(u'\\xa0', u' '),\n",
        "        \"link\": soupAccueil.find(\"div\", {\"class\": \"article article--main\"}).a[\"href\"]\n",
        "    }\n",
        "\n",
        "    requete = requests.get(mainArticle[\"link\"])\n",
        "    page = requete.content\n",
        "    soupMainArticle = BeautifulSoup(page)\n",
        "    mainArticle[\"subTitle\"] = soupMainArticle.find(\"p\", {\"class\": \"article__desc\"}).get_text().replace(u'\\xa0', u' ')\n",
        "    paragraphes = soupMainArticle.find_all(\"p\", {\"class\": \"article__paragraph\"})\n",
        "    mainArticle[\"content\"] = list(map(lambda para: para.get_text().replace(u'\\xa0', u' '), paragraphes))\n",
        "\n",
        "\n",
        "    print(mainArticle)"
      ],
      "execution_count": 51,
      "outputs": [
        {
          "output_type": "stream",
          "text": [
            "{'title': 'Le gouvernement doute que l’objectif de 5 000 cas de Covid-19 par jour soit atteint le 15 décembre pour enclencher le déconfinement', 'link': 'https://www.lemonde.fr/societe/article/2020/12/07/covid-19-l-executif-pessimiste-sur-l-objectif-des-5-000-cas-par-jour-fixe-pour-enclencher-le-deconfinement_6062505_3224.html', 'subTitle': '    Les nouveaux cas comptabilisés ont cessé de reculer depuis une semaine et se sont stabilisés autour de 10 000 par jour – loin de l’objectif fixé. Le directeur général de la santé, Jérôme Salomon, doit livrer un point de situation ce lundi à 18 heures. ', 'content': ['« On ne sera pas à l’objectif au 15 décembre » : c’est l’analyse qu’ont faite, lundi 7 décembre, le premier ministre, Jean Castex, et le ministre de la santé, Olivier Véran, lors d’une réunion avec les chefs des groupes parlementaires, dans le cadre du Comité de contrôle et de liaison Covid-19. Fin novembre, Emmanuel Macron avait fixé comme condition nécessaire pour lever le confinement que soient comptabilisés au maximum 5 000 cas positifs au Covid-19 par jour.', '« Ce qui a donné la tonalité de la réunion, c’est le “plateau” des cas de Covid évoqué par Jean Castex », a rapporté Jean-Christophe Lagarde (UDI). Selon lui, le premier ministre a dit qu’il y « aura des décisions à prendre », tout en ajoutant que l’exécutif ne prévoyait « pas d’isolement coercitif, qui risquerait de conduire à un évitement des tests ».', 'Quant à la question des tests massifs avant et après les fêtes, Olivier « Véran a fait l’effet douche froide car il n’y a pas les moyens humains », selon le président de l’UDI. Il y aura toutefois, selon Bertrand Pancher (Libertés et territoires), également présent à cette réunion, « des incitations aux labos pour des résultats plus rapides ». Le directeur général de la santé, Jérôme Salomon, doit faire le point sur la situation ce lundi à 18 heures.', 'Le 24 novembre, Emmanuel Macron avait déclaré que « le 15 décembre, si nous sommes bien arrivés autour des 5 000 contaminations par jour et environ 2 500 à 3 000 personnes en réanimation (…) alors le confinement pourra être levé ». « Nous pourrons donc à nouveau nous déplacer, sans autorisation, y compris entre régions, et passer Noël en famille (…) Les salles de cinéma, les théâtres, les musées pourront reprendre leur activité » avec des protocoles sanitaires, avait développé le chef de l’Etat.', 'Or le nombre de cas positifs par jour, après avoir atteint un pic à plus de 50 000, voir 60 000 certains jours fin octobre, a certes diminué avec régularité, jusqu’à atteindre 10 000 à 11 000 cas par jour en moyenne fin novembre. Mais la semaine dernière, la baisse des cas comptabilisés a marqué le pas, en se maintenant autour des 10 000 par jour, selon les données de Santé publique France (SPF), soit loin encore de l’objectif fixé.', 'Plus de 11 000 nouveaux cas de contamination ont ainsi été enregistrés en vingt-quatre heures, a fait savoir dimanche Santé publique France. Au cours de la semaine écoulée, le nombre de nouveaux tests positifs quotidiens (tests PCR virologiques et tests antigéniques rapides) a fluctué entre quelque 4 000 et 14 000, la moyenne s’établissant à 10 500 par jour. Dimanche, le taux de positivité était à 10,7 %, inchangé depuis trois jours, après plusieurs semaines de repli. Le taux se situait à quelque 20 % il y a un mois.', 'Le second critère établi par l’exécutif pour mettre fin aux restrictions de déplacement est que le nombre de patients en réanimation soit ramené à une fourchette comprise entre 2 500 et 3 000. Dimanche, le nombre de patients en réanimation a continué à refluer, à 3 210 contre 3 220 la veille, selon les données de SPF. Par ailleurs, 101 patients ont été admis au cours des dernières vingt-quatre heures dans ces services qui prennent en charge les patients atteints des formes les plus graves du Covid-19. Ils étaient 125 samedi.', 'Retrouvez tous nos articles sur le coronavirus dans notre rubrique', 'Sur l’épidémie :', 'Et aussi :']}\n"
          ],
          "name": "stdout"
        }
      ]
    },
    {
      "cell_type": "code",
      "metadata": {
        "colab": {
          "base_uri": "https://localhost:8080/"
        },
        "id": "-oP58mFfSn08",
        "outputId": "3ad30572-b1e8-4c00-f127-60edb10fd8c3"
      },
      "source": [
        "#Récupère article sur un lien\n",
        "live = True\n",
        "if(live):\n",
        "    requete = requests.get(\"https://www.lemonde.fr/sciences/article/2020/12/01/le-telescope-geant-d-arecibo-s-est-effondre_6061835_1650684.html\")\n",
        "    page = requete.content\n",
        "    soupAccueil = BeautifulSoup(page)\n",
        "    \n",
        "    mainArticle = {\n",
        "        \"title\": soupAccueil.find(\"h1\", {\"class\": \"article__title\"}).get_text().replace(u'\\xa0', u' '),\n",
        "        \"link\": \"https://www.lemonde.fr/sciences/article/2020/12/01/le-telescope-geant-d-arecibo-s-est-effondre_6061835_1650684.html\"\n",
        "    }\n",
        "\n",
        "    requete = requests.get(mainArticle[\"link\"])\n",
        "    page = requete.content\n",
        "    soupMainArticle = BeautifulSoup(page)\n",
        "    mainArticle[\"subTitle\"] = soupMainArticle.find(\"p\", {\"class\": \"article__desc\"}).get_text().replace(u'\\xa0', u' ')\n",
        "    paragraphes = soupMainArticle.find_all(\"p\", {\"class\": \"article__paragraph\"})\n",
        "    mainArticle[\"content\"] = list(map(lambda para: para.get_text().replace(u'\\xa0', u' '), paragraphes))\n",
        "\n",
        "    print(mainArticle)"
      ],
      "execution_count": 67,
      "outputs": [
        {
          "output_type": "stream",
          "text": [
            "{'title': 'Le télescope géant d’Arecibo s’est effondré', 'link': 'https://www.lemonde.fr/sciences/article/2020/12/01/le-telescope-geant-d-arecibo-s-est-effondre_6061835_1650684.html', 'subTitle': '    Jugé trop instable et non réparable après la rupture de deux câbles en novembre, le télescope s’est effondré soudainement le 1er décembre. ', 'content': ['C’était l’un des télescopes les plus célèbres de la planète. Sur l’île américaine de Porto Rico, le radiotélescope d’Arecibo, utilisé par les astronomes du monde entier et qui avait permis de découvrir les premières planètes en orbite autour d’une autre étoile que le Soleil, s’est effondré mardi 1er décembre après cinquante-sept ans de service. « La plate-forme s’est écroulée de manière non planifiée », a déclaré à l’Agence France-Presse (AFP) Robert James Margetta, porte-parole de la Fondation nationale des sciences, l’agence américaine qui finance l’observatoire.', 'Deux des câbles soutenant les 900 tonnes d’instruments du télescope sur une plate-forme au-dessus de la parabole de 305 mètres de diamètre avaient rompu le 10 août et le 6 novembre, pour une cause inconnue. La chute des câbles avait troué la parabole.', 'Le télescope avait ensuite été jugé trop instable et non réparable. L’institution avait pris la décision de démolir la structure. Les accès étaient interdits depuis, en raison de la crainte d’un effondrement soudain, ce qui s’est finalement produit peu avant 8 heures (heure locale) mardi.', '« C’est un désastre absolu », a réagi, ému, le professeur Abel Méndez, directeur du laboratoire habitabilité planétaire de l’université de Porto Rico, auprès de l’AFP. « Nombre d’étudiants se formaient à l’astronomie dans l’observatoire, c’est ce qui leur donne l’inspiration de faire une carrière en sciences ou en astronomie, comme moi », a-t-il ajouté.', 'Tous les astronomes de la planète pouvaient demander une portion de temps du radiotélescope pour faire leurs observations, à distance. « Même de Chine », a précisé Abel Méndez.', 'Contrairement aux télescopes optiques, les radiotélescopes fonctionnent jour et nuit, même par temps couvert.', 'Celui d’Arecibo était aussi l’un des principaux radars pour observer les astéroïdes s’approchant de la Terre dans le cadre du programme de défense planétaire de la NASA. L’agence spatiale américaine a accès à au moins un autre radar, mais moins puissant.', 'C’est aussi un triste symbole de la dégradation de la situation sur le territoire américain, durement frappé ces dernières années par des ouragans et dont les infrastructures tardent à être reconstruites. Même si on ignore à ce stade la cause de la rupture des câbles. « La perte d’Arecibo est une grande perte pour le monde, mais encore plus pour Porto Rico. C’est une icône de notre île », s’est lamenté Abel Méndez.', 'Ce radiotélescope était l’un des plus grands du monde ; mythique, il était le lieu du film Contact, dans lequel une astronome jouée par Jodie Foster utilisait l’observatoire dans sa quête de signaux extraterrestres. Une scène d’action du film GoldenEye s’était également déroulée au-dessus du télescope.', 'En 1992, c’est grâce à lui que les premières exoplanètes, hors du Système solaire, avaient été découvertes. Les premières cartes de la surface de Vénus ont été réalisées grâce à lui.', 'Les astronomes savaient depuis plusieurs semaines que la liste des découvertes d’Arecibo ne s’allongerait plus. Beaucoup partageaient leur tristesse, mardi, sur Twitter.']}\n"
          ],
          "name": "stdout"
        }
      ]
    },
    {
      "cell_type": "code",
      "metadata": {
        "colab": {
          "base_uri": "https://localhost:8080/"
        },
        "id": "DLf5Giv8Sn09",
        "outputId": "7968678f-151c-484a-c3fe-84a32bb7d638"
      },
      "source": [
        "def sentence_similarity(sent1, sent2, stopwords=None):\n",
        "    if stopwords is None:\n",
        "        stopwords = []\n",
        " \n",
        "    sent1 = [w.lower() for w in sent1]\n",
        "    sent2 = [w.lower() for w in sent2]\n",
        " \n",
        "    all_words = list(set(sent1 + sent2))\n",
        " \n",
        "    vector1 = [0] * len(all_words)\n",
        "    vector2 = [0] * len(all_words)\n",
        " \n",
        "    # build the vector for the first sentence\n",
        "    for w in sent1:\n",
        "        if w in stopwords:\n",
        "            continue\n",
        "        vector1[all_words.index(w)] += 1\n",
        " \n",
        "    # build the vector for the second sentence\n",
        "    for w in sent2:\n",
        "        if w in stopwords:\n",
        "            continue\n",
        "        vector2[all_words.index(w)] += 1\n",
        " \n",
        "    return 1 - cosine_distance(vector1, vector2)\n",
        " \n",
        "def build_similarity_matrix(sentences, stop_words):\n",
        "    # Create an empty similarity matrix\n",
        "    similarity_matrix = np.zeros((len(sentences), len(sentences)))\n",
        " \n",
        "    for idx1 in range(len(sentences)):\n",
        "        for idx2 in range(len(sentences)):\n",
        "            if idx1 == idx2: #ignore if both are same sentences\n",
        "                continue \n",
        "            similarity_matrix[idx1][idx2] = sentence_similarity(sentences[idx1], sentences[idx2], stop_words)\n",
        "\n",
        "    return similarity_matrix\n",
        "\n",
        "\n",
        "def generate_summary(top_n=5):\n",
        " \n",
        "    stop_words = stopwords.words('french')\n",
        "    summarize_text = []\n",
        "\n",
        "    nlp = fr_core_news_sm.load()\n",
        "    \n",
        "    # Step 1 - Read text and tokenize\n",
        "    text = \" \".join(mainArticle[\"content\"])\n",
        "    doc = nlp(text)\n",
        "    sentences =  [X.text for X in doc.sents]\n",
        "\n",
        "    # Step 2 - Generate Similary Martix across sentences\n",
        "    sentence_similarity_martix = build_similarity_matrix(sentences, stop_words)\n",
        "\n",
        "    # Step 3 - Rank sentences in similarity martix\n",
        "    sentence_similarity_graph = nx.from_numpy_array(sentence_similarity_martix)\n",
        "    scores = nx.pagerank(sentence_similarity_graph)\n",
        "\n",
        "    # Step 4 - Sort the rank and pick top sentences\n",
        "    ranked_sentence = sorted(((scores[i],s) for i,s in enumerate(sentences)), reverse=True)    \n",
        "    # print(\"Indexes of top ranked_sentence order are \", ranked_sentence)    \n",
        "\n",
        "    for i in range(top_n):\n",
        "      summarize_text.append(ranked_sentence[i][1])\n",
        "\n",
        "    # Step 5 - Offcourse, output the summarize texr\n",
        "    print(\"Summarize Text: \\n\", \".. \".join(summarize_text))\n",
        "\n",
        "# let's begin\n",
        "generate_summary(5)"
      ],
      "execution_count": 16,
      "outputs": [
        {
          "output_type": "stream",
          "text": [
            "Summarize Text: \n",
            " « Les plus pauvres louent même parfois leurs enfants à une autre famille », explique Tesfaye Seyoum, chargé de formation dans l’établissement.. « Ensuite, ils passent un examen et on les forme », ajoute Abel Kassahun.. Dans les prochaines années, nous prévoyons de former plus de 700 enseignants employés par le gouvernement et près de 300 responsables du secteur de l’éducation, ce qui nous permettra d’atteindre des milliers d’enfants supplémentaires », se félicite Caitlin Baron, la directrice de Luminos Fund.. « Lors de cette rupture, l’école est devenue bien plus inclusive », résume Alemayehu Hailu Gebre, le directeur de la Luminos Fund en Ethiopie, qui gère chaque année 10 000 élèves en rattrapage scolaire accéléré dans le pays et se réjouit que seulement 2 % d’entre eux ont décroché depuis le début de la pandémie due au coronavirus.. A la veille du confinement, lors de la visite du Monde Afrique, les élèves de la classe de Duber, répartis en cinq groupes, apprennent à compter jusqu’à 20 en afaan oromo, la langue régionale, pendant qu’une poignée entonne une chanson sur cette thématique et qu’une autre égrène les nombres à voix haute.\n"
          ],
          "name": "stdout"
        }
      ]
    },
    {
      "cell_type": "code",
      "metadata": {
        "colab": {
          "base_uri": "https://localhost:8080/"
        },
        "id": "_jEELJJHSn08",
        "outputId": "3c86cfa4-364d-4a16-a4db-a2506eeb8183"
      },
      "source": [
        "#-------------------------------- Nouvelle technique ---------------------------------\n",
        "\n",
        "#tokeniser les mots\n",
        "def return_token(sentence):\n",
        "    nlp = fr_core_news_sm.load()\n",
        "    # Tokeniser la phrase\n",
        "    doc = nlp(sentence)\n",
        "    # Retourner le texte de chaque token\n",
        "    return [X.text for X in doc]\n",
        "\n",
        "def return_mean_embedding(sentence):\n",
        "    nlp = fr_core_news_sm.load()\n",
        "    # Tokeniser la phrase\n",
        "    doc = nlp(sentence)\n",
        "    # Retourner la moyenne des vecteurs pour chaque phrase\n",
        "    return np.mean([(X.vector) for X in doc], axis=0)\n",
        " \n",
        "def build_similarity_matrix(sentences, sentence_vectors):\n",
        "    # Create an empty similarity matrix\n",
        "    sim_mat = np.zeros((len(sentences), len(sentences)))\n",
        " \n",
        "    for i in range(len(sentences)):\n",
        "        for j in range(len(sentences)):\n",
        "            if i != j: #ignore if both are same sentences\n",
        "                continue \n",
        "            sim_mat[i][j] = cosine_similarity(sentence_vectors[i].reshape(1,96), sentence_vectors[j].reshape(1,96))[0,0]\n",
        "\n",
        "    return sim_mat\n",
        "\n",
        "\n",
        "stop_words = stopwords.words('french')\n",
        "summarize_text = []\n",
        "nlp = fr_core_news_sm.load()\n",
        "\n",
        "# Step 1 - Read text and tokenize\n",
        "text = \" \".join(mainArticle[\"content\"])\n",
        "tokenizer = nltk.data.load('tokenizers/punkt/PY3/french.pickle')\n",
        "phrases = tokenizer.tokenize(text)\n",
        "\n",
        "# Preprocessing\n",
        "# Filtre les stop words et stemming\n",
        "stemmer = SnowballStemmer(language='french')\n",
        "clean_sentences = []\n",
        "order = []\n",
        "idx = 0\n",
        "for sentence in phrases:\n",
        "  clean_words = []\n",
        "  order.append(i)\n",
        "  i += 1\n",
        "  for token in return_token(sentence):\n",
        "    if token not in stop_words:\n",
        "      clean_words.append(stemmer.stem(token))\n",
        "  clean_sentences.append(\" \".join(clean_words))\n",
        "\n",
        "# New steps : vectorisation de nos phrases\n",
        "phrases_vector = []\n",
        "for sentence in clean_sentences:\n",
        "  phrases_vector.append(return_mean_embedding(sentence))\n",
        "# Step 2 - Generate Similary Martix across sentences\n",
        "sentence_similarity_martix = build_similarity_matrix(phrases, phrases_vector)\n",
        "\n",
        "# Step 3 - Rank sentences in similarity martix\n",
        "sentence_similarity_graph = nx.from_numpy_array(sentence_similarity_martix)\n",
        "scores = nx.pagerank(sentence_similarity_graph)\n",
        "# Step 4 - Sort the rank and pick top sentences\n",
        "ranked_sentence = sorted(((scores[i],s,order[i]) for i,s in enumerate(phrases)), reverse=True)\n",
        "print(ranked_sentence)\n",
        "\n",
        "top_sents = []\n",
        "for i in range(5):\n",
        "  top_sents.append((ranked_sentence[i][1], ranked_sentence[i][2]))\n",
        "\n",
        "summarize_text = sorted(top_sents, key=lambda ordre: ordre[1])\n",
        "print(top_sents)\n",
        "print(summarize_text)\n",
        "# Step 5 - Offcourse, output the summarize text\n",
        "print(\"Summarize Text: \\n\", \".. \".join((summarize_text[i][0] for i in range(5))))"
      ],
      "execution_count": 68,
      "outputs": [
        {
          "output_type": "stream",
          "text": [
            "[(0.04, '« Nombre d’étudiants se formaient à l’astronomie dans l’observatoire, c’est ce qui leur donne l’inspiration de faire une carrière en sciences ou en astronomie, comme moi », a-t-il ajouté.', 13), (0.04, '« Même de Chine », a précisé Abel Méndez.', 15), (0.04, '« La plate-forme s’est écroulée de manière non planifiée », a déclaré à l’Agence France-Presse (AFP) Robert James Margetta, porte-parole de la Fondation nationale des sciences, l’agence américaine qui finance l’observatoire.', 6), (0.04, '« La perte d’Arecibo est une grande perte pour le monde, mais encore plus pour Porto Rico.', 21), (0.04, '« C’est un désastre absolu », a réagi, ému, le professeur Abel Méndez, directeur du laboratoire habitabilité planétaire de l’université de Porto Rico, auprès de l’AFP.', 12), (0.04, 'Une scène d’action du film GoldenEye s’était également déroulée au-dessus du télescope.', 24), (0.04, 'Tous les astronomes de la planète pouvaient demander une portion de temps du radiotélescope pour faire leurs observations, à distance.', 14), (0.04, 'Sur l’île américaine de Porto Rico, le radiotélescope d’Arecibo, utilisé par les astronomes du monde entier et qui avait permis de découvrir les premières planètes en orbite autour d’une autre étoile que le Soleil, s’est effondré mardi 1er décembre après cinquante-sept ans de service.', 5), (0.04, 'Même si on ignore à ce stade la cause de la rupture des câbles.', 20), (0.04, 'L’institution avait pris la décision de démolir la structure.', 10), (0.04, 'L’agence spatiale américaine a accès à au moins un autre radar, mais moins puissant.', 18), (0.04, 'Les premières cartes de la surface de Vénus ont été réalisées grâce à lui.', 26), (0.04, 'Les astronomes savaient depuis plusieurs semaines que la liste des découvertes d’Arecibo ne s’allongerait plus.', 27), (0.04, 'Les accès étaient interdits depuis, en raison de la crainte d’un effondrement soudain, ce qui s’est finalement produit peu avant 8 heures (heure locale) mardi.', 11), (0.04, 'Le télescope avait ensuite été jugé trop instable et non réparable.', 9), (0.04, 'La chute des câbles avait troué la parabole.', 8), (0.04, 'En 1992, c’est grâce à lui que les premières exoplanètes, hors du Système solaire, avaient été découvertes.', 25), (0.04, 'Deux des câbles soutenant les 900 tonnes d’instruments du télescope sur une plate-forme au-dessus de la parabole de 305 mètres de diamètre avaient rompu le 10 août et le 6 novembre, pour une cause inconnue.', 7), (0.04, 'C’était l’un des télescopes les plus célèbres de la planète.', 4), (0.04, 'C’est une icône de notre île », s’est lamenté Abel Méndez.', 22), (0.04, 'C’est aussi un triste symbole de la dégradation de la situation sur le territoire américain, durement frappé ces dernières années par des ouragans et dont les infrastructures tardent à être reconstruites.', 19), (0.04, 'Contrairement aux télescopes optiques, les radiotélescopes fonctionnent jour et nuit, même par temps couvert.', 16), (0.04, 'Celui d’Arecibo était aussi l’un des principaux radars pour observer les astéroïdes s’approchant de la Terre dans le cadre du programme de défense planétaire de la NASA.', 17), (0.04, 'Ce radiotélescope était l’un des plus grands du monde ; mythique, il était le lieu du film Contact, dans lequel une astronome jouée par Jodie Foster utilisait l’observatoire dans sa quête de signaux extraterrestres.', 23), (0.04, 'Beaucoup partageaient leur tristesse, mardi, sur Twitter.', 28)]\n",
            "[('« Nombre d’étudiants se formaient à l’astronomie dans l’observatoire, c’est ce qui leur donne l’inspiration de faire une carrière en sciences ou en astronomie, comme moi », a-t-il ajouté.', 13), ('« Même de Chine », a précisé Abel Méndez.', 15), ('« La plate-forme s’est écroulée de manière non planifiée », a déclaré à l’Agence France-Presse (AFP) Robert James Margetta, porte-parole de la Fondation nationale des sciences, l’agence américaine qui finance l’observatoire.', 6), ('« La perte d’Arecibo est une grande perte pour le monde, mais encore plus pour Porto Rico.', 21), ('« C’est un désastre absolu », a réagi, ému, le professeur Abel Méndez, directeur du laboratoire habitabilité planétaire de l’université de Porto Rico, auprès de l’AFP.', 12)]\n",
            "[('« La plate-forme s’est écroulée de manière non planifiée », a déclaré à l’Agence France-Presse (AFP) Robert James Margetta, porte-parole de la Fondation nationale des sciences, l’agence américaine qui finance l’observatoire.', 6), ('« C’est un désastre absolu », a réagi, ému, le professeur Abel Méndez, directeur du laboratoire habitabilité planétaire de l’université de Porto Rico, auprès de l’AFP.', 12), ('« Nombre d’étudiants se formaient à l’astronomie dans l’observatoire, c’est ce qui leur donne l’inspiration de faire une carrière en sciences ou en astronomie, comme moi », a-t-il ajouté.', 13), ('« Même de Chine », a précisé Abel Méndez.', 15), ('« La perte d’Arecibo est une grande perte pour le monde, mais encore plus pour Porto Rico.', 21)]\n",
            "Summarize Text: \n",
            " « La plate-forme s’est écroulée de manière non planifiée », a déclaré à l’Agence France-Presse (AFP) Robert James Margetta, porte-parole de la Fondation nationale des sciences, l’agence américaine qui finance l’observatoire... « C’est un désastre absolu », a réagi, ému, le professeur Abel Méndez, directeur du laboratoire habitabilité planétaire de l’université de Porto Rico, auprès de l’AFP... « Nombre d’étudiants se formaient à l’astronomie dans l’observatoire, c’est ce qui leur donne l’inspiration de faire une carrière en sciences ou en astronomie, comme moi », a-t-il ajouté... « Même de Chine », a précisé Abel Méndez... « La perte d’Arecibo est une grande perte pour le monde, mais encore plus pour Porto Rico.\n"
          ],
          "name": "stdout"
        }
      ]
    }
  ]
}